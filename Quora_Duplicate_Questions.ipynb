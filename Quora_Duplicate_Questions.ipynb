{
 "cells": [
  {
   "cell_type": "markdown",
   "id": "74e93f19-4a88-4ded-9bd5-b131c164b9f0",
   "metadata": {},
   "source": [
    "# **Importing Libraries**"
   ]
  },
  {
   "cell_type": "code",
   "execution_count": 1,
   "id": "93e0ad2b-42d8-4f59-912d-ad0a5c312b1d",
   "metadata": {},
   "outputs": [],
   "source": [
    "import numpy as np\n",
    "import pandas as pd\n",
    "import matplotlib.pyplot as plt\n",
    "%matplotlib inline\n",
    "\n",
    "import re\n",
    "import warnings\n",
    "warnings.filterwarnings(\"ignore\")"
   ]
  },
  {
   "cell_type": "code",
   "execution_count": 2,
   "id": "706970be-5cbf-4779-aeb3-98c6a498dba3",
   "metadata": {},
   "outputs": [
    {
     "data": {
      "text/plain": [
       "(404290, 6)"
      ]
     },
     "execution_count": 2,
     "metadata": {},
     "output_type": "execute_result"
    }
   ],
   "source": [
    "df=pd.read_csv(\"quora.csv\")\n",
    "df.shape"
   ]
  },
  {
   "cell_type": "code",
   "execution_count": 3,
   "id": "6f7fa6f7-67b2-4af9-9d39-062f0f4e451a",
   "metadata": {},
   "outputs": [
    {
     "data": {
      "text/plain": [
       "(30000, 6)"
      ]
     },
     "execution_count": 3,
     "metadata": {},
     "output_type": "execute_result"
    }
   ],
   "source": [
    "df=df.sample(30000,random_state=2)\n",
    "df.shape"
   ]
  },
  {
   "cell_type": "markdown",
   "id": "cc8fd54f-7c78-4eb3-8daf-eddcf5343654",
   "metadata": {},
   "source": [
    "# **EDA ON dataset**"
   ]
  },
  {
   "cell_type": "code",
   "execution_count": 4,
   "id": "b9400e57-eaf3-4e92-b7a2-662e325bd6c7",
   "metadata": {},
   "outputs": [
    {
     "data": {
      "text/html": [
       "<div>\n",
       "<style scoped>\n",
       "    .dataframe tbody tr th:only-of-type {\n",
       "        vertical-align: middle;\n",
       "    }\n",
       "\n",
       "    .dataframe tbody tr th {\n",
       "        vertical-align: top;\n",
       "    }\n",
       "\n",
       "    .dataframe thead th {\n",
       "        text-align: right;\n",
       "    }\n",
       "</style>\n",
       "<table border=\"1\" class=\"dataframe\">\n",
       "  <thead>\n",
       "    <tr style=\"text-align: right;\">\n",
       "      <th></th>\n",
       "      <th>id</th>\n",
       "      <th>qid1</th>\n",
       "      <th>qid2</th>\n",
       "      <th>question1</th>\n",
       "      <th>question2</th>\n",
       "      <th>is_duplicate</th>\n",
       "    </tr>\n",
       "  </thead>\n",
       "  <tbody>\n",
       "    <tr>\n",
       "      <th>367529</th>\n",
       "      <td>367529</td>\n",
       "      <td>497813</td>\n",
       "      <td>497814</td>\n",
       "      <td>Equation of line passing through origin which ...</td>\n",
       "      <td>Why does the US healthcare system continuously...</td>\n",
       "      <td>0</td>\n",
       "    </tr>\n",
       "    <tr>\n",
       "      <th>53232</th>\n",
       "      <td>53232</td>\n",
       "      <td>94128</td>\n",
       "      <td>94129</td>\n",
       "      <td>Which is the best site to post my business blo...</td>\n",
       "      <td>What is the best site to post my business blog...</td>\n",
       "      <td>1</td>\n",
       "    </tr>\n",
       "    <tr>\n",
       "      <th>269234</th>\n",
       "      <td>269234</td>\n",
       "      <td>386911</td>\n",
       "      <td>386912</td>\n",
       "      <td>Did Jesse Jackson's campaign cause the current...</td>\n",
       "      <td>Where can I find only voice of Indian songs?</td>\n",
       "      <td>0</td>\n",
       "    </tr>\n",
       "    <tr>\n",
       "      <th>17346</th>\n",
       "      <td>17346</td>\n",
       "      <td>32969</td>\n",
       "      <td>32970</td>\n",
       "      <td>Republicans: What are your opinions on the fir...</td>\n",
       "      <td>Who won the first 2016 debate?</td>\n",
       "      <td>1</td>\n",
       "    </tr>\n",
       "    <tr>\n",
       "      <th>205573</th>\n",
       "      <td>205573</td>\n",
       "      <td>205579</td>\n",
       "      <td>32235</td>\n",
       "      <td>How do you scan a document Into your computer?</td>\n",
       "      <td>How do I scan documents into my computer?</td>\n",
       "      <td>1</td>\n",
       "    </tr>\n",
       "    <tr>\n",
       "      <th>358916</th>\n",
       "      <td>358916</td>\n",
       "      <td>176540</td>\n",
       "      <td>55635</td>\n",
       "      <td>Which books are appropriate for CAT preparation?</td>\n",
       "      <td>What are the recommended books/materials for t...</td>\n",
       "      <td>1</td>\n",
       "    </tr>\n",
       "    <tr>\n",
       "      <th>287273</th>\n",
       "      <td>287273</td>\n",
       "      <td>148979</td>\n",
       "      <td>195566</td>\n",
       "      <td>Famous Astrologer in India?</td>\n",
       "      <td>Which are some of the most famous astrologers ...</td>\n",
       "      <td>1</td>\n",
       "    </tr>\n",
       "    <tr>\n",
       "      <th>63461</th>\n",
       "      <td>63461</td>\n",
       "      <td>110443</td>\n",
       "      <td>110444</td>\n",
       "      <td>Many of Marvel's characters have undergone sig...</td>\n",
       "      <td>What are some ideas for MovieLens recommendati...</td>\n",
       "      <td>0</td>\n",
       "    </tr>\n",
       "    <tr>\n",
       "      <th>116480</th>\n",
       "      <td>116480</td>\n",
       "      <td>189737</td>\n",
       "      <td>189738</td>\n",
       "      <td>What is the respiratory system of a snake?</td>\n",
       "      <td>How is the respiratory system of a shark struc...</td>\n",
       "      <td>0</td>\n",
       "    </tr>\n",
       "    <tr>\n",
       "      <th>47779</th>\n",
       "      <td>47779</td>\n",
       "      <td>85276</td>\n",
       "      <td>33685</td>\n",
       "      <td>How do I get a tiny waist?</td>\n",
       "      <td>How do you get a skinny waist?</td>\n",
       "      <td>1</td>\n",
       "    </tr>\n",
       "  </tbody>\n",
       "</table>\n",
       "</div>"
      ],
      "text/plain": [
       "            id    qid1    qid2  \\\n",
       "367529  367529  497813  497814   \n",
       "53232    53232   94128   94129   \n",
       "269234  269234  386911  386912   \n",
       "17346    17346   32969   32970   \n",
       "205573  205573  205579   32235   \n",
       "358916  358916  176540   55635   \n",
       "287273  287273  148979  195566   \n",
       "63461    63461  110443  110444   \n",
       "116480  116480  189737  189738   \n",
       "47779    47779   85276   33685   \n",
       "\n",
       "                                                question1  \\\n",
       "367529  Equation of line passing through origin which ...   \n",
       "53232   Which is the best site to post my business blo...   \n",
       "269234  Did Jesse Jackson's campaign cause the current...   \n",
       "17346   Republicans: What are your opinions on the fir...   \n",
       "205573     How do you scan a document Into your computer?   \n",
       "358916   Which books are appropriate for CAT preparation?   \n",
       "287273                        Famous Astrologer in India?   \n",
       "63461   Many of Marvel's characters have undergone sig...   \n",
       "116480         What is the respiratory system of a snake?   \n",
       "47779                          How do I get a tiny waist?   \n",
       "\n",
       "                                                question2  is_duplicate  \n",
       "367529  Why does the US healthcare system continuously...             0  \n",
       "53232   What is the best site to post my business blog...             1  \n",
       "269234       Where can I find only voice of Indian songs?             0  \n",
       "17346                      Who won the first 2016 debate?             1  \n",
       "205573          How do I scan documents into my computer?             1  \n",
       "358916  What are the recommended books/materials for t...             1  \n",
       "287273  Which are some of the most famous astrologers ...             1  \n",
       "63461   What are some ideas for MovieLens recommendati...             0  \n",
       "116480  How is the respiratory system of a shark struc...             0  \n",
       "47779                      How do you get a skinny waist?             1  "
      ]
     },
     "execution_count": 4,
     "metadata": {},
     "output_type": "execute_result"
    }
   ],
   "source": [
    "df.sample(10)"
   ]
  },
  {
   "cell_type": "markdown",
   "id": "3fca00b8-5484-4f9c-85f6-7840738ad779",
   "metadata": {},
   "source": [
    "  # **Statistical View of data**"
   ]
  },
  {
   "cell_type": "code",
   "execution_count": 5,
   "id": "3ca2d05c-5e23-43a6-8e1e-2138c107f8bc",
   "metadata": {},
   "outputs": [
    {
     "name": "stdout",
     "output_type": "stream",
     "text": [
      "<class 'pandas.core.frame.DataFrame'>\n",
      "Index: 30000 entries, 398782 to 312470\n",
      "Data columns (total 6 columns):\n",
      " #   Column        Non-Null Count  Dtype \n",
      "---  ------        --------------  ----- \n",
      " 0   id            30000 non-null  int64 \n",
      " 1   qid1          30000 non-null  int64 \n",
      " 2   qid2          30000 non-null  int64 \n",
      " 3   question1     30000 non-null  object\n",
      " 4   question2     30000 non-null  object\n",
      " 5   is_duplicate  30000 non-null  int64 \n",
      "dtypes: int64(4), object(2)\n",
      "memory usage: 1.6+ MB\n"
     ]
    }
   ],
   "source": [
    "df.info()"
   ]
  },
  {
   "cell_type": "code",
   "execution_count": 6,
   "id": "3fe609da-31bd-41e5-b294-a60fe5908802",
   "metadata": {},
   "outputs": [
    {
     "data": {
      "text/plain": [
       "id              0\n",
       "qid1            0\n",
       "qid2            0\n",
       "question1       0\n",
       "question2       0\n",
       "is_duplicate    0\n",
       "dtype: int64"
      ]
     },
     "execution_count": 6,
     "metadata": {},
     "output_type": "execute_result"
    }
   ],
   "source": [
    "df.isna().sum()"
   ]
  },
  {
   "cell_type": "code",
   "execution_count": 7,
   "id": "6d24c1c3-bbad-4012-97b0-50c6f1a0bb97",
   "metadata": {},
   "outputs": [
    {
     "data": {
      "text/plain": [
       "0"
      ]
     },
     "execution_count": 7,
     "metadata": {},
     "output_type": "execute_result"
    }
   ],
   "source": [
    "df.duplicated().sum()"
   ]
  },
  {
   "cell_type": "code",
   "execution_count": 8,
   "id": "7dac229a-ba2c-4207-91d0-2f670b2d55f0",
   "metadata": {},
   "outputs": [],
   "source": [
    "df=df.dropna()"
   ]
  },
  {
   "cell_type": "markdown",
   "id": "193a6869-0e46-42a2-b630-89e1b0ed54d6",
   "metadata": {},
   "source": [
    "# **Checking duplicated and Not**"
   ]
  },
  {
   "cell_type": "code",
   "execution_count": 9,
   "id": "0b01da56-3826-45b8-8489-2c4bb9307395",
   "metadata": {},
   "outputs": [
    {
     "data": {
      "text/plain": [
       "is_duplicate\n",
       "0    19013\n",
       "1    10987\n",
       "Name: count, dtype: int64"
      ]
     },
     "execution_count": 9,
     "metadata": {},
     "output_type": "execute_result"
    }
   ],
   "source": [
    "df['is_duplicate'].value_counts()"
   ]
  },
  {
   "cell_type": "markdown",
   "id": "85493423-1d76-493d-a002-1bd6baa36a97",
   "metadata": {},
   "source": [
    "# **BAR CHART**"
   ]
  },
  {
   "cell_type": "code",
   "execution_count": 10,
   "id": "8228bb49-7d1f-4b01-b383-8492438022ec",
   "metadata": {},
   "outputs": [
    {
     "data": {
      "image/png": "[encoded data removed]",
      "text/plain": [
       "<Figure size 640x480 with 1 Axes>"
      ]
     },
     "metadata": {},
     "output_type": "display_data"
    }
   ],
   "source": [
    "colors = ['#1f77b4', '#ff7f0e']\n",
    "df['is_duplicate'].value_counts().plot(kind='bar',color=colors)\n",
    "plt.xlabel('is_duplicate')\n",
    "plt.ylabel('Count')\n",
    "plt.title('Distribution of is_duplicate')\n",
    "plt.show()"
   ]
  },
  {
   "cell_type": "markdown",
   "id": "6041ebe5-781c-4ad4-8c5e-6a583ae61e93",
   "metadata": {},
   "source": [
    "# **PIE CHART**"
   ]
  },
  {
   "cell_type": "code",
   "execution_count": 11,
   "id": "695ae6b3-0fd9-4ca1-872d-2be7e0c646c0",
   "metadata": {},
   "outputs": [
    {
     "data": {
      "image/png": "[encoded data removed]",
      "text/plain": [
       "<Figure size 640x480 with 1 Axes>"
      ]
     },
     "metadata": {},
     "output_type": "display_data"
    }
   ],
   "source": [
    "df['is_duplicate'].value_counts().plot(kind='pie',autopct='%1.1f%%')\n",
    "plt.title('Distribution of is_duplicate')\n",
    "plt.show()\n",
    "# Accoring to above code 63.1% are duplicate question and rest are not duplicate"
   ]
  },
  {
   "cell_type": "markdown",
   "id": "4ca9ed47-6de0-442e-9dd2-8b17e4258c40",
   "metadata": {},
   "source": [
    "# **Checking unique and duplicate questions**"
   ]
  },
  {
   "cell_type": "code",
   "execution_count": 12,
   "id": "5c183ec6-4ae8-4a47-9c0a-f616e5e84d61",
   "metadata": {},
   "outputs": [
    {
     "name": "stdout",
     "output_type": "stream",
     "text": [
      "Unique Question are : 55299\n",
      "Duplicated Questions are 3480\n"
     ]
    }
   ],
   "source": [
    "question_id=pd.Series(df['qid1'].tolist()+df['qid2'].tolist())\n",
    "print(\"Unique Question are :\",np.unique(question_id).shape[0])\n",
    "duplicate_questions=question_id.value_counts()>1\n",
    "print(f\"Duplicated Questions are {duplicate_questions[duplicate_questions].shape[0]}\")"
   ]
  },
  {
   "cell_type": "markdown",
   "id": "40e06678-b5b5-4d77-89c0-91d1500703e0",
   "metadata": {},
   "source": [
    "# **Checking Duplicate and Unique Questions graph**"
   ]
  },
  {
   "cell_type": "code",
   "execution_count": 13,
   "id": "b364454a-3963-4a77-9603-18686f27bcb8",
   "metadata": {},
   "outputs": [
    {
     "data": {
      "image/png": "[encoded data removed]",
      "text/plain": [
       "<Figure size 640x480 with 1 Axes>"
      ]
     },
     "metadata": {},
     "output_type": "display_data"
    }
   ],
   "source": [
    "plt.hist(question_id.value_counts().values,bins=200)\n",
    "plt.yscale('log')\n",
    "plt.show()"
   ]
  },
  {
   "cell_type": "markdown",
   "id": "e2709766-b19b-4af0-8870-408732407f9f",
   "metadata": {},
   "source": [
    "# **Preprocessing**"
   ]
  },
  {
   "cell_type": "code",
   "execution_count": 14,
   "id": "29b579e1-32ca-425b-8823-8e98451e037f",
   "metadata": {},
   "outputs": [],
   "source": [
    "def preprocess(q):\n",
    "    \n",
    "    q = str(q).lower().strip()\n",
    "    \n",
    "    # Replace certain special characters with their string equivalents\n",
    "    q = q.replace('%', ' percent')\n",
    "    q = q.replace('$', ' dollar ')\n",
    "    q = q.replace('₹', ' rupee ')\n",
    "    q = q.replace('€', ' euro ')\n",
    "    q = q.replace('@', ' at ')\n",
    "    \n",
    "    # The pattern '[math]' appears around 900 times in the whole dataset.\n",
    "    q = q.replace('[math]', '')\n",
    "    \n",
    "    # Replacing some numbers with string equivalents (not perfect, can be done better to account for more cases)\n",
    "    q = q.replace(',000,000,000 ', 'b ')\n",
    "    q = q.replace(',000,000 ', 'm ')\n",
    "    q = q.replace(',000 ', 'k ')\n",
    "    q = re.sub(r'([0-9]+)000000000', r'\\1b', q)\n",
    "    q = re.sub(r'([0-9]+)000000', r'\\1m', q)\n",
    "    q = re.sub(r'([0-9]+)000', r'\\1k', q)\n",
    "    \n",
    "    # Decontracting words\n",
    "    # https://en.wikipedia.org/wiki/Wikipedia%3aList_of_English_contractions\n",
    "    # https://stackoverflow.com/a/19794953\n",
    "    contractions = { \n",
    "    \"ain't\": \"am not\",\n",
    "    \"aren't\": \"are not\",\n",
    "    \"can't\": \"can not\",\n",
    "    \"can't've\": \"can not have\",\n",
    "    \"'cause\": \"because\",\n",
    "    \"could've\": \"could have\",\n",
    "    \"couldn't\": \"could not\",\n",
    "    \"couldn't've\": \"could not have\",\n",
    "    \"didn't\": \"did not\",\n",
    "    \"doesn't\": \"does not\",\n",
    "    \"don't\": \"do not\",\n",
    "    \"hadn't\": \"had not\",\n",
    "    \"hadn't've\": \"had not have\",\n",
    "    \"hasn't\": \"has not\",\n",
    "    \"haven't\": \"have not\",\n",
    "    \"he'd\": \"he would\",\n",
    "    \"he'd've\": \"he would have\",\n",
    "    \"he'll\": \"he will\",\n",
    "    \"he'll've\": \"he will have\",\n",
    "    \"he's\": \"he is\",\n",
    "    \"how'd\": \"how did\",\n",
    "    \"how'd'y\": \"how do you\",\n",
    "    \"how'll\": \"how will\",\n",
    "    \"how's\": \"how is\",\n",
    "    \"i'd\": \"i would\",\n",
    "    \"i'd've\": \"i would have\",\n",
    "    \"i'll\": \"i will\",\n",
    "    \"i'll've\": \"i will have\",\n",
    "    \"i'm\": \"i am\",\n",
    "    \"i've\": \"i have\",\n",
    "    \"isn't\": \"is not\",\n",
    "    \"it'd\": \"it would\",\n",
    "    \"it'd've\": \"it would have\",\n",
    "    \"it'll\": \"it will\",\n",
    "    \"it'll've\": \"it will have\",\n",
    "    \"it's\": \"it is\",\n",
    "    \"let's\": \"let us\",\n",
    "    \"ma'am\": \"madam\",\n",
    "    \"mayn't\": \"may not\",\n",
    "    \"might've\": \"might have\",\n",
    "    \"mightn't\": \"might not\",\n",
    "    \"mightn't've\": \"might not have\",\n",
    "    \"must've\": \"must have\",\n",
    "    \"mustn't\": \"must not\",\n",
    "    \"mustn't've\": \"must not have\",\n",
    "    \"needn't\": \"need not\",\n",
    "    \"needn't've\": \"need not have\",\n",
    "    \"o'clock\": \"of the clock\",\n",
    "    \"oughtn't\": \"ought not\",\n",
    "    \"oughtn't've\": \"ought not have\",\n",
    "    \"shan't\": \"shall not\",\n",
    "    \"sha'n't\": \"shall not\",\n",
    "    \"shan't've\": \"shall not have\",\n",
    "    \"she'd\": \"she would\",\n",
    "    \"she'd've\": \"she would have\",\n",
    "    \"she'll\": \"she will\",\n",
    "    \"she'll've\": \"she will have\",\n",
    "    \"she's\": \"she is\",\n",
    "    \"should've\": \"should have\",\n",
    "    \"shouldn't\": \"should not\",\n",
    "    \"shouldn't've\": \"should not have\",\n",
    "    \"so've\": \"so have\",\n",
    "    \"so's\": \"so as\",\n",
    "    \"that'd\": \"that would\",\n",
    "    \"that'd've\": \"that would have\",\n",
    "    \"that's\": \"that is\",\n",
    "    \"there'd\": \"there would\",\n",
    "    \"there'd've\": \"there would have\",\n",
    "    \"there's\": \"there is\",\n",
    "    \"they'd\": \"they would\",\n",
    "    \"they'd've\": \"they would have\",\n",
    "    \"they'll\": \"they will\",\n",
    "    \"they'll've\": \"they will have\",\n",
    "    \"they're\": \"they are\",\n",
    "    \"they've\": \"they have\",\n",
    "    \"to've\": \"to have\",\n",
    "    \"wasn't\": \"was not\",\n",
    "    \"we'd\": \"we would\",\n",
    "    \"we'd've\": \"we would have\",\n",
    "    \"we'll\": \"we will\",\n",
    "    \"we'll've\": \"we will have\",\n",
    "    \"we're\": \"we are\",\n",
    "    \"we've\": \"we have\",\n",
    "    \"weren't\": \"were not\",\n",
    "    \"what'll\": \"what will\",\n",
    "    \"what'll've\": \"what will have\",\n",
    "    \"what're\": \"what are\",\n",
    "    \"what's\": \"what is\",\n",
    "    \"what've\": \"what have\",\n",
    "    \"when's\": \"when is\",\n",
    "    \"when've\": \"when have\",\n",
    "    \"where'd\": \"where did\",\n",
    "    \"where's\": \"where is\",\n",
    "    \"where've\": \"where have\",\n",
    "    \"who'll\": \"who will\",\n",
    "    \"who'll've\": \"who will have\",\n",
    "    \"who's\": \"who is\",\n",
    "    \"who've\": \"who have\",\n",
    "    \"why's\": \"why is\",\n",
    "    \"why've\": \"why have\",\n",
    "    \"will've\": \"will have\",\n",
    "    \"won't\": \"will not\",\n",
    "    \"won't've\": \"will not have\",\n",
    "    \"would've\": \"would have\",\n",
    "    \"wouldn't\": \"would not\",\n",
    "    \"wouldn't've\": \"would not have\",\n",
    "    \"y'all\": \"you all\",\n",
    "    \"y'all'd\": \"you all would\",\n",
    "    \"y'all'd've\": \"you all would have\",\n",
    "    \"y'all're\": \"you all are\",\n",
    "    \"y'all've\": \"you all have\",\n",
    "    \"you'd\": \"you would\",\n",
    "    \"you'd've\": \"you would have\",\n",
    "    \"you'll\": \"you will\",\n",
    "    \"you'll've\": \"you will have\",\n",
    "    \"you're\": \"you are\",\n",
    "    \"you've\": \"you have\"\n",
    "    }\n",
    "\n",
    "    q_decontracted = []\n",
    "\n",
    "    for word in q.split():\n",
    "        if word in contractions:\n",
    "            word = contractions[word]\n",
    "\n",
    "        q_decontracted.append(word)\n",
    "\n",
    "    q = ' '.join(q_decontracted)\n",
    "    q = q.replace(\"'ve\", \" have\")\n",
    "    q = q.replace(\"n't\", \" not\")\n",
    "    q = q.replace(\"'re\", \" are\")\n",
    "    q = q.replace(\"'ll\", \" will\")\n",
    "    \n",
    "    # Removing HTML tags\n",
    "    q = BeautifulSoup(q)\n",
    "    q = q.get_text()\n",
    "    \n",
    "    # Remove punctuations\n",
    "    pattern = re.compile('\\W')\n",
    "    q = re.sub(pattern, ' ', q).strip()\n",
    "\n",
    "    \n",
    "    return q\n",
    "    \n"
   ]
  },
  {
   "cell_type": "code",
   "execution_count": 15,
   "id": "a22e3713-155b-472e-bcb6-fcc133a40619",
   "metadata": {},
   "outputs": [
    {
     "data": {
      "text/plain": [
       "'i have already  was not done'"
      ]
     },
     "execution_count": 15,
     "metadata": {},
     "output_type": "execute_result"
    }
   ],
   "source": [
    "from bs4 import BeautifulSoup\n",
    "preprocess(\"I've already! wasn't <b>done</b>?\")"
   ]
  },
  {
   "cell_type": "code",
   "execution_count": 16,
   "id": "3981fa6f-caad-40bd-81f4-ac71b9fc28c6",
   "metadata": {},
   "outputs": [],
   "source": [
    "df['question1']=df['question1'].apply(preprocess)\n",
    "df['question2']=df['question2'].apply(preprocess)"
   ]
  },
  {
   "cell_type": "code",
   "execution_count": 17,
   "id": "6b261e4a-9a89-4369-8fe7-cf512c01635f",
   "metadata": {},
   "outputs": [
    {
     "data": {
      "text/html": [
       "<div>\n",
       "<style scoped>\n",
       "    .dataframe tbody tr th:only-of-type {\n",
       "        vertical-align: middle;\n",
       "    }\n",
       "\n",
       "    .dataframe tbody tr th {\n",
       "        vertical-align: top;\n",
       "    }\n",
       "\n",
       "    .dataframe thead th {\n",
       "        text-align: right;\n",
       "    }\n",
       "</style>\n",
       "<table border=\"1\" class=\"dataframe\">\n",
       "  <thead>\n",
       "    <tr style=\"text-align: right;\">\n",
       "      <th></th>\n",
       "      <th>id</th>\n",
       "      <th>qid1</th>\n",
       "      <th>qid2</th>\n",
       "      <th>question1</th>\n",
       "      <th>question2</th>\n",
       "      <th>is_duplicate</th>\n",
       "    </tr>\n",
       "  </thead>\n",
       "  <tbody>\n",
       "    <tr>\n",
       "      <th>398782</th>\n",
       "      <td>398782</td>\n",
       "      <td>496695</td>\n",
       "      <td>532029</td>\n",
       "      <td>what is the best marketing automation tool for...</td>\n",
       "      <td>what is the best marketing automation tool for...</td>\n",
       "      <td>1</td>\n",
       "    </tr>\n",
       "    <tr>\n",
       "      <th>115086</th>\n",
       "      <td>115086</td>\n",
       "      <td>187729</td>\n",
       "      <td>187730</td>\n",
       "      <td>i am poor but i want to invest  what should i do</td>\n",
       "      <td>i am quite poor and i want to be very rich  wh...</td>\n",
       "      <td>0</td>\n",
       "    </tr>\n",
       "    <tr>\n",
       "      <th>327711</th>\n",
       "      <td>327711</td>\n",
       "      <td>454161</td>\n",
       "      <td>454162</td>\n",
       "      <td>i am from india and live abroad  i met a guy f...</td>\n",
       "      <td>t i e t to thapar university to thapar univers...</td>\n",
       "      <td>0</td>\n",
       "    </tr>\n",
       "    <tr>\n",
       "      <th>367788</th>\n",
       "      <td>367788</td>\n",
       "      <td>498109</td>\n",
       "      <td>491396</td>\n",
       "      <td>why do so many people in the u s  hate the sou...</td>\n",
       "      <td>my boyfriend doesnt feel guilty when he hurts ...</td>\n",
       "      <td>0</td>\n",
       "    </tr>\n",
       "    <tr>\n",
       "      <th>151235</th>\n",
       "      <td>151235</td>\n",
       "      <td>237843</td>\n",
       "      <td>50930</td>\n",
       "      <td>consequences of bhopal gas tragedy</td>\n",
       "      <td>what was the reason behind the bhopal gas tragedy</td>\n",
       "      <td>0</td>\n",
       "    </tr>\n",
       "  </tbody>\n",
       "</table>\n",
       "</div>"
      ],
      "text/plain": [
       "            id    qid1    qid2  \\\n",
       "398782  398782  496695  532029   \n",
       "115086  115086  187729  187730   \n",
       "327711  327711  454161  454162   \n",
       "367788  367788  498109  491396   \n",
       "151235  151235  237843   50930   \n",
       "\n",
       "                                                question1  \\\n",
       "398782  what is the best marketing automation tool for...   \n",
       "115086   i am poor but i want to invest  what should i do   \n",
       "327711  i am from india and live abroad  i met a guy f...   \n",
       "367788  why do so many people in the u s  hate the sou...   \n",
       "151235                 consequences of bhopal gas tragedy   \n",
       "\n",
       "                                                question2  is_duplicate  \n",
       "398782  what is the best marketing automation tool for...             1  \n",
       "115086  i am quite poor and i want to be very rich  wh...             0  \n",
       "327711  t i e t to thapar university to thapar univers...             0  \n",
       "367788  my boyfriend doesnt feel guilty when he hurts ...             0  \n",
       "151235  what was the reason behind the bhopal gas tragedy             0  "
      ]
     },
     "execution_count": 17,
     "metadata": {},
     "output_type": "execute_result"
    }
   ],
   "source": [
    "df.head()"
   ]
  },
  {
   "cell_type": "code",
   "execution_count": 18,
   "id": "0cc98eac-8d30-40ee-a5e7-c59902c0504a",
   "metadata": {},
   "outputs": [],
   "source": [
    "df['q1_len']=df['question1'].str.len()\n",
    "df['q2_len']=df['question2'].str.len()"
   ]
  },
  {
   "cell_type": "code",
   "execution_count": 19,
   "id": "102697ae-f746-4589-bb5a-5c400612a8a1",
   "metadata": {},
   "outputs": [],
   "source": [
    "df['q1_words_num']=df['question1'].apply(lambda row:len(row.split(\" \")))\n",
    "df['q2_words_num']=df['question2'].apply(lambda row:len(row.split(\" \")))\n"
   ]
  },
  {
   "cell_type": "code",
   "execution_count": 20,
   "id": "7ce86259-d311-4acd-8e00-addd16409e93",
   "metadata": {},
   "outputs": [],
   "source": [
    "def common_words(row):\n",
    "    w1=set(map(lambda word:word.lower().strip(),row['question1'].split(\" \")))\n",
    "    w2=set(map(lambda word:word.lower().strip(),row['question2'].split(\" \")))\n",
    "    return len(w1&w2)"
   ]
  },
  {
   "cell_type": "code",
   "execution_count": 21,
   "id": "5e44df63-db0b-4b75-a348-8701b8a357d2",
   "metadata": {},
   "outputs": [],
   "source": [
    "df['common_words']=df.apply(common_words,axis=1)"
   ]
  },
  {
   "cell_type": "code",
   "execution_count": 22,
   "id": "00077e20-e241-4a86-bcef-0d3f0a3ccc00",
   "metadata": {},
   "outputs": [],
   "source": [
    "def total_words(row):\n",
    "    w1=set(map(lambda word:word.lower().strip(),row['question1'].split(\" \")))\n",
    "    w2=set(map(lambda word:word.lower().strip(),row['question2'].split(\" \")))\n",
    "    return len(w1)+len(w2)"
   ]
  },
  {
   "cell_type": "code",
   "execution_count": 23,
   "id": "a26b97ff-289a-4d41-ae82-39ad42f82bb6",
   "metadata": {},
   "outputs": [],
   "source": [
    "df['total_words']=df.apply(total_words,axis=1)"
   ]
  },
  {
   "cell_type": "code",
   "execution_count": 24,
   "id": "d5e9d546-a682-4a07-a84e-032c316a681d",
   "metadata": {},
   "outputs": [],
   "source": [
    "df['word_share']=round(df['common_words']/df['total_words'],2)"
   ]
  },
  {
   "cell_type": "code",
   "execution_count": 25,
   "id": "f1a80b7a-3868-4eb8-bb34-4223d6da1f01",
   "metadata": {},
   "outputs": [
    {
     "data": {
      "text/html": [
       "<div>\n",
       "<style scoped>\n",
       "    .dataframe tbody tr th:only-of-type {\n",
       "        vertical-align: middle;\n",
       "    }\n",
       "\n",
       "    .dataframe tbody tr th {\n",
       "        vertical-align: top;\n",
       "    }\n",
       "\n",
       "    .dataframe thead th {\n",
       "        text-align: right;\n",
       "    }\n",
       "</style>\n",
       "<table border=\"1\" class=\"dataframe\">\n",
       "  <thead>\n",
       "    <tr style=\"text-align: right;\">\n",
       "      <th></th>\n",
       "      <th>id</th>\n",
       "      <th>qid1</th>\n",
       "      <th>qid2</th>\n",
       "      <th>question1</th>\n",
       "      <th>question2</th>\n",
       "      <th>is_duplicate</th>\n",
       "      <th>q1_len</th>\n",
       "      <th>q2_len</th>\n",
       "      <th>q1_words_num</th>\n",
       "      <th>q2_words_num</th>\n",
       "      <th>common_words</th>\n",
       "      <th>total_words</th>\n",
       "      <th>word_share</th>\n",
       "    </tr>\n",
       "  </thead>\n",
       "  <tbody>\n",
       "    <tr>\n",
       "      <th>398782</th>\n",
       "      <td>398782</td>\n",
       "      <td>496695</td>\n",
       "      <td>532029</td>\n",
       "      <td>what is the best marketing automation tool for...</td>\n",
       "      <td>what is the best marketing automation tool for...</td>\n",
       "      <td>1</td>\n",
       "      <td>75</td>\n",
       "      <td>76</td>\n",
       "      <td>13</td>\n",
       "      <td>13</td>\n",
       "      <td>12</td>\n",
       "      <td>26</td>\n",
       "      <td>0.46</td>\n",
       "    </tr>\n",
       "    <tr>\n",
       "      <th>115086</th>\n",
       "      <td>115086</td>\n",
       "      <td>187729</td>\n",
       "      <td>187730</td>\n",
       "      <td>i am poor but i want to invest  what should i do</td>\n",
       "      <td>i am quite poor and i want to be very rich  wh...</td>\n",
       "      <td>0</td>\n",
       "      <td>48</td>\n",
       "      <td>56</td>\n",
       "      <td>13</td>\n",
       "      <td>16</td>\n",
       "      <td>8</td>\n",
       "      <td>24</td>\n",
       "      <td>0.33</td>\n",
       "    </tr>\n",
       "    <tr>\n",
       "      <th>327711</th>\n",
       "      <td>327711</td>\n",
       "      <td>454161</td>\n",
       "      <td>454162</td>\n",
       "      <td>i am from india and live abroad  i met a guy f...</td>\n",
       "      <td>t i e t to thapar university to thapar univers...</td>\n",
       "      <td>0</td>\n",
       "      <td>104</td>\n",
       "      <td>119</td>\n",
       "      <td>28</td>\n",
       "      <td>21</td>\n",
       "      <td>4</td>\n",
       "      <td>38</td>\n",
       "      <td>0.11</td>\n",
       "    </tr>\n",
       "    <tr>\n",
       "      <th>367788</th>\n",
       "      <td>367788</td>\n",
       "      <td>498109</td>\n",
       "      <td>491396</td>\n",
       "      <td>why do so many people in the u s  hate the sou...</td>\n",
       "      <td>my boyfriend doesnt feel guilty when he hurts ...</td>\n",
       "      <td>0</td>\n",
       "      <td>58</td>\n",
       "      <td>145</td>\n",
       "      <td>14</td>\n",
       "      <td>32</td>\n",
       "      <td>1</td>\n",
       "      <td>34</td>\n",
       "      <td>0.03</td>\n",
       "    </tr>\n",
       "    <tr>\n",
       "      <th>151235</th>\n",
       "      <td>151235</td>\n",
       "      <td>237843</td>\n",
       "      <td>50930</td>\n",
       "      <td>consequences of bhopal gas tragedy</td>\n",
       "      <td>what was the reason behind the bhopal gas tragedy</td>\n",
       "      <td>0</td>\n",
       "      <td>34</td>\n",
       "      <td>49</td>\n",
       "      <td>5</td>\n",
       "      <td>9</td>\n",
       "      <td>3</td>\n",
       "      <td>13</td>\n",
       "      <td>0.23</td>\n",
       "    </tr>\n",
       "  </tbody>\n",
       "</table>\n",
       "</div>"
      ],
      "text/plain": [
       "            id    qid1    qid2  \\\n",
       "398782  398782  496695  532029   \n",
       "115086  115086  187729  187730   \n",
       "327711  327711  454161  454162   \n",
       "367788  367788  498109  491396   \n",
       "151235  151235  237843   50930   \n",
       "\n",
       "                                                question1  \\\n",
       "398782  what is the best marketing automation tool for...   \n",
       "115086   i am poor but i want to invest  what should i do   \n",
       "327711  i am from india and live abroad  i met a guy f...   \n",
       "367788  why do so many people in the u s  hate the sou...   \n",
       "151235                 consequences of bhopal gas tragedy   \n",
       "\n",
       "                                                question2  is_duplicate  \\\n",
       "398782  what is the best marketing automation tool for...             1   \n",
       "115086  i am quite poor and i want to be very rich  wh...             0   \n",
       "327711  t i e t to thapar university to thapar univers...             0   \n",
       "367788  my boyfriend doesnt feel guilty when he hurts ...             0   \n",
       "151235  what was the reason behind the bhopal gas tragedy             0   \n",
       "\n",
       "        q1_len  q2_len  q1_words_num  q2_words_num  common_words  total_words  \\\n",
       "398782      75      76            13            13            12           26   \n",
       "115086      48      56            13            16             8           24   \n",
       "327711     104     119            28            21             4           38   \n",
       "367788      58     145            14            32             1           34   \n",
       "151235      34      49             5             9             3           13   \n",
       "\n",
       "        word_share  \n",
       "398782        0.46  \n",
       "115086        0.33  \n",
       "327711        0.11  \n",
       "367788        0.03  \n",
       "151235        0.23  "
      ]
     },
     "execution_count": 25,
     "metadata": {},
     "output_type": "execute_result"
    }
   ],
   "source": [
    "df.head()"
   ]
  },
  {
   "cell_type": "code",
   "execution_count": 26,
   "id": "d630cde2-dc3d-41be-800f-ef59e2c0a34e",
   "metadata": {},
   "outputs": [],
   "source": [
    "# Advanced Features\n",
    "from nltk.corpus import stopwords\n",
    "\n",
    "def fetch_token_features(row):\n",
    "    \n",
    "    q1 = row['question1']\n",
    "    q2 = row['question2']\n",
    "    \n",
    "    SAFE_DIV = 0.0001 \n",
    "\n",
    "    STOP_WORDS = stopwords.words(\"english\")\n",
    "    \n",
    "    token_features = [0.0]*8\n",
    "    \n",
    "    # Converting the Sentence into Tokens: \n",
    "    q1_tokens = q1.split()\n",
    "    q2_tokens = q2.split()\n",
    "    \n",
    "    if len(q1_tokens) == 0 or len(q2_tokens) == 0:\n",
    "        return token_features\n",
    "\n",
    "    # Get the non-stopwords in Questions\n",
    "    q1_words = set([word for word in q1_tokens if word not in STOP_WORDS])\n",
    "    q2_words = set([word for word in q2_tokens if word not in STOP_WORDS])\n",
    "    \n",
    "    #Get the stopwords in Questions\n",
    "    q1_stops = set([word for word in q1_tokens if word in STOP_WORDS])\n",
    "    q2_stops = set([word for word in q2_tokens if word in STOP_WORDS])\n",
    "    \n",
    "    # Get the common non-stopwords from Question pair\n",
    "    common_word_count = len(q1_words.intersection(q2_words))\n",
    "    \n",
    "    # Get the common stopwords from Question pair\n",
    "    common_stop_count = len(q1_stops.intersection(q2_stops))\n",
    "    \n",
    "    # Get the common Tokens from Question pair\n",
    "    common_token_count = len(set(q1_tokens).intersection(set(q2_tokens)))\n",
    "    \n",
    "    \n",
    "    token_features[0] = common_word_count / (min(len(q1_words), len(q2_words)) + SAFE_DIV)\n",
    "    token_features[1] = common_word_count / (max(len(q1_words), len(q2_words)) + SAFE_DIV)\n",
    "    token_features[2] = common_stop_count / (min(len(q1_stops), len(q2_stops)) + SAFE_DIV)\n",
    "    token_features[3] = common_stop_count / (max(len(q1_stops), len(q2_stops)) + SAFE_DIV)\n",
    "    token_features[4] = common_token_count / (min(len(q1_tokens), len(q2_tokens)) + SAFE_DIV)\n",
    "    token_features[5] = common_token_count / (max(len(q1_tokens), len(q2_tokens)) + SAFE_DIV)\n",
    "    \n",
    "    # Last word of both question is same or not\n",
    "    token_features[6] = int(q1_tokens[-1] == q2_tokens[-1])\n",
    "    \n",
    "    # First word of both question is same or not\n",
    "    token_features[7] = int(q1_tokens[0] == q2_tokens[0])\n",
    "    \n",
    "    return token_features"
   ]
  },
  {
   "cell_type": "code",
   "execution_count": 27,
   "id": "242cc250-77c4-408f-b681-2d185c350822",
   "metadata": {},
   "outputs": [],
   "source": [
    "token_features = df.apply(fetch_token_features, axis=1)"
   ]
  },
  {
   "cell_type": "code",
   "execution_count": 28,
   "id": "bc8437ae-0e09-4cbd-9c0a-06ae6346868f",
   "metadata": {},
   "outputs": [],
   "source": [
    "df[\"cwc_min\"]       = list(map(lambda x: x[0], token_features))\n",
    "df[\"cwc_max\"]       = list(map(lambda x: x[1], token_features))\n",
    "df[\"csc_min\"]       = list(map(lambda x: x[2], token_features))\n",
    "df[\"csc_max\"]       = list(map(lambda x: x[3], token_features))\n",
    "df[\"ctc_min\"]       = list(map(lambda x: x[4], token_features))\n",
    "df[\"ctc_max\"]       = list(map(lambda x: x[5], token_features))\n",
    "df[\"last_word_eq\"]  = list(map(lambda x: x[6], token_features))\n",
    "df[\"first_word_eq\"] = list(map(lambda x: x[7], token_features))"
   ]
  },
  {
   "cell_type": "code",
   "execution_count": 29,
   "id": "b96c59e6-34b8-4fc2-997e-5648cd4b2821",
   "metadata": {},
   "outputs": [
    {
     "name": "stdout",
     "output_type": "stream",
     "text": [
      "Defaulting to user installation because normal site-packages is not writeable\n",
      "Requirement already satisfied: distance in /home/mr_ehtsham/.local/lib/python3.10/site-packages (0.1.3)\n"
     ]
    }
   ],
   "source": [
    "!pip3 install distance"
   ]
  },
  {
   "cell_type": "code",
   "execution_count": 30,
   "id": "e2b315d6-7e99-4849-bd4f-bf00d7175e00",
   "metadata": {},
   "outputs": [],
   "source": [
    "import distance\n",
    "\n",
    "def fetch_length_features(row):\n",
    "    \n",
    "    q1 = row['question1']\n",
    "    q2 = row['question2']\n",
    "    \n",
    "    length_features = [0.0]*3\n",
    "    \n",
    "    # Converting the Sentence into Tokens: \n",
    "    q1_tokens = q1.split()\n",
    "    q2_tokens = q2.split()\n",
    "    \n",
    "    if len(q1_tokens) == 0 or len(q2_tokens) == 0:\n",
    "        return length_features\n",
    "    \n",
    "    # Absolute length features\n",
    "    length_features[0] = abs(len(q1_tokens) - len(q2_tokens))\n",
    "    \n",
    "    #Average Token Length of both Questions\n",
    "    length_features[1] = (len(q1_tokens) + len(q2_tokens))/2\n",
    "    \n",
    "    strs = list(distance.lcsubstrings(q1, q2))\n",
    "    length_features[2] = len(strs[0]) / (min(len(q1), len(q2)) + 1)\n",
    "    \n",
    "    return length_features\n",
    "    \n",
    "length_features = df.apply(fetch_length_features, axis=1)\n",
    "\n",
    "df['abs_len_diff'] = list(map(lambda x: x[0], length_features))\n",
    "df['mean_len'] = list(map(lambda x: x[1], length_features))\n",
    "df['longest_substr_ratio'] = list(map(lambda x: x[2], length_features))"
   ]
  },
  {
   "cell_type": "code",
   "execution_count": 31,
   "id": "17cf509b-a65a-4041-8770-2e034a2a0e79",
   "metadata": {},
   "outputs": [
    {
     "name": "stdout",
     "output_type": "stream",
     "text": [
      "Defaulting to user installation because normal site-packages is not writeable\n",
      "Requirement already satisfied: fuzzywuzzy in /home/mr_ehtsham/.local/lib/python3.10/site-packages (0.18.0)\n"
     ]
    }
   ],
   "source": [
    "!pip3 install fuzzywuzzy"
   ]
  },
  {
   "cell_type": "code",
   "execution_count": 32,
   "id": "0fcc3aee-61c0-4a20-bbf4-52eb44df0abf",
   "metadata": {},
   "outputs": [],
   "source": [
    "from fuzzywuzzy import fuzz\n",
    "\n",
    "def fetch_fuzzy_features(row):\n",
    "    \n",
    "    q1 = row['question1']\n",
    "    q2 = row['question2']\n",
    "    \n",
    "    fuzzy_features = [0.0]*4\n",
    "    \n",
    "    # fuzz_ratio\n",
    "    fuzzy_features[0] = fuzz.QRatio(q1, q2)\n",
    "\n",
    "    # fuzz_partial_ratio\n",
    "    fuzzy_features[1] = fuzz.partial_ratio(q1, q2)\n",
    "\n",
    "    # token_sort_ratio\n",
    "    fuzzy_features[2] = fuzz.token_sort_ratio(q1, q2)\n",
    "\n",
    "    # token_set_ratio\n",
    "    fuzzy_features[3] = fuzz.token_set_ratio(q1, q2)\n",
    "\n",
    "    return fuzzy_features\n",
    "fuzzy_features = df.apply(fetch_fuzzy_features, axis=1)\n",
    "\n",
    "# Creating new feature columns for fuzzy features\n",
    "df['fuzz_ratio'] = list(map(lambda x: x[0], fuzzy_features))\n",
    "df['fuzz_partial_ratio'] = list(map(lambda x: x[1], fuzzy_features))\n",
    "df['token_sort_ratio'] = list(map(lambda x: x[2], fuzzy_features))\n",
    "df['token_set_ratio'] = list(map(lambda x: x[3], fuzzy_features))"
   ]
  },
  {
   "cell_type": "code",
   "execution_count": 33,
   "id": "18897f9b-0c9a-4994-8baf-006d707415c3",
   "metadata": {},
   "outputs": [],
   "source": [
    "# import seaborn as sns\n",
    "# sns.pairplot(df[['ctc_min', 'cwc_min', 'csc_min', 'is_duplicate']],hue='is_duplicate')"
   ]
  },
  {
   "cell_type": "code",
   "execution_count": 34,
   "id": "c60950e5-b263-45d2-b020-cb4133f9620e",
   "metadata": {},
   "outputs": [],
   "source": [
    "# sns.pairplot(df[['ctc_max', 'cwc_max', 'csc_max', 'is_duplicate']],hue='is_duplicate')\n"
   ]
  },
  {
   "cell_type": "code",
   "execution_count": 35,
   "id": "b239a328-3fd3-4d4d-99e6-4d1a2cfe2069",
   "metadata": {},
   "outputs": [],
   "source": [
    "# sns.pairplot(df[['last_word_eq', 'first_word_eq', 'is_duplicate']],hue='is_duplicate')\n"
   ]
  },
  {
   "cell_type": "code",
   "execution_count": 36,
   "id": "89e49214-6d6d-41bc-8457-25fdc8d4b086",
   "metadata": {},
   "outputs": [],
   "source": [
    "# sns.pairplot(df[['mean_len', 'abs_len_diff','longest_substr_ratio', 'is_duplicate']],hue='is_duplicate')\n"
   ]
  },
  {
   "cell_type": "code",
   "execution_count": 37,
   "id": "32c14315-62d2-4c8d-9794-c0c02c030b6f",
   "metadata": {},
   "outputs": [],
   "source": [
    "# sns.pairplot(df[['fuzz_ratio', 'fuzz_partial_ratio','token_sort_ratio','token_set_ratio', 'is_duplicate']],hue='is_duplicate')\n"
   ]
  },
  {
   "cell_type": "code",
   "execution_count": 38,
   "id": "988843c0-65c5-4a00-9b80-071fe963f531",
   "metadata": {},
   "outputs": [],
   "source": [
    "\n",
    "from sklearn.preprocessing import MinMaxScaler\n",
    "\n",
    "X = MinMaxScaler().fit_transform(df[['cwc_min', 'cwc_max', 'csc_min', 'csc_max' , 'ctc_min' , 'ctc_max' , 'last_word_eq', 'first_word_eq' , 'abs_len_diff' , 'mean_len' , 'token_set_ratio' , 'token_sort_ratio' ,  'fuzz_ratio' , 'fuzz_partial_ratio' , 'longest_substr_ratio']])\n",
    "y = df['is_duplicate'].values"
   ]
  },
  {
   "cell_type": "code",
   "execution_count": 39,
   "id": "a0774ce0-be77-4fd2-97d3-23a69a5155c6",
   "metadata": {},
   "outputs": [
    {
     "name": "stdout",
     "output_type": "stream",
     "text": [
      "(30000, 23)\n"
     ]
    },
    {
     "data": {
      "text/html": [
       "<div>\n",
       "<style scoped>\n",
       "    .dataframe tbody tr th:only-of-type {\n",
       "        vertical-align: middle;\n",
       "    }\n",
       "\n",
       "    .dataframe tbody tr th {\n",
       "        vertical-align: top;\n",
       "    }\n",
       "\n",
       "    .dataframe thead th {\n",
       "        text-align: right;\n",
       "    }\n",
       "</style>\n",
       "<table border=\"1\" class=\"dataframe\">\n",
       "  <thead>\n",
       "    <tr style=\"text-align: right;\">\n",
       "      <th></th>\n",
       "      <th>is_duplicate</th>\n",
       "      <th>q1_len</th>\n",
       "      <th>q2_len</th>\n",
       "      <th>q1_words_num</th>\n",
       "      <th>q2_words_num</th>\n",
       "      <th>common_words</th>\n",
       "      <th>total_words</th>\n",
       "      <th>word_share</th>\n",
       "      <th>cwc_min</th>\n",
       "      <th>cwc_max</th>\n",
       "      <th>...</th>\n",
       "      <th>ctc_max</th>\n",
       "      <th>last_word_eq</th>\n",
       "      <th>first_word_eq</th>\n",
       "      <th>abs_len_diff</th>\n",
       "      <th>mean_len</th>\n",
       "      <th>longest_substr_ratio</th>\n",
       "      <th>fuzz_ratio</th>\n",
       "      <th>fuzz_partial_ratio</th>\n",
       "      <th>token_sort_ratio</th>\n",
       "      <th>token_set_ratio</th>\n",
       "    </tr>\n",
       "  </thead>\n",
       "  <tbody>\n",
       "    <tr>\n",
       "      <th>398782</th>\n",
       "      <td>1</td>\n",
       "      <td>75</td>\n",
       "      <td>76</td>\n",
       "      <td>13</td>\n",
       "      <td>13</td>\n",
       "      <td>12</td>\n",
       "      <td>26</td>\n",
       "      <td>0.46</td>\n",
       "      <td>0.874989</td>\n",
       "      <td>0.874989</td>\n",
       "      <td>...</td>\n",
       "      <td>0.923070</td>\n",
       "      <td>1.0</td>\n",
       "      <td>1.0</td>\n",
       "      <td>0.0</td>\n",
       "      <td>13.0</td>\n",
       "      <td>0.855263</td>\n",
       "      <td>99</td>\n",
       "      <td>99</td>\n",
       "      <td>99</td>\n",
       "      <td>99</td>\n",
       "    </tr>\n",
       "    <tr>\n",
       "      <th>115086</th>\n",
       "      <td>0</td>\n",
       "      <td>48</td>\n",
       "      <td>56</td>\n",
       "      <td>13</td>\n",
       "      <td>16</td>\n",
       "      <td>8</td>\n",
       "      <td>24</td>\n",
       "      <td>0.33</td>\n",
       "      <td>0.666644</td>\n",
       "      <td>0.499988</td>\n",
       "      <td>...</td>\n",
       "      <td>0.466664</td>\n",
       "      <td>1.0</td>\n",
       "      <td>1.0</td>\n",
       "      <td>3.0</td>\n",
       "      <td>13.5</td>\n",
       "      <td>0.224490</td>\n",
       "      <td>69</td>\n",
       "      <td>67</td>\n",
       "      <td>65</td>\n",
       "      <td>74</td>\n",
       "    </tr>\n",
       "    <tr>\n",
       "      <th>327711</th>\n",
       "      <td>0</td>\n",
       "      <td>104</td>\n",
       "      <td>119</td>\n",
       "      <td>28</td>\n",
       "      <td>21</td>\n",
       "      <td>4</td>\n",
       "      <td>38</td>\n",
       "      <td>0.11</td>\n",
       "      <td>0.000000</td>\n",
       "      <td>0.000000</td>\n",
       "      <td>...</td>\n",
       "      <td>0.115384</td>\n",
       "      <td>0.0</td>\n",
       "      <td>0.0</td>\n",
       "      <td>6.0</td>\n",
       "      <td>23.0</td>\n",
       "      <td>0.047619</td>\n",
       "      <td>26</td>\n",
       "      <td>29</td>\n",
       "      <td>34</td>\n",
       "      <td>43</td>\n",
       "    </tr>\n",
       "    <tr>\n",
       "      <th>367788</th>\n",
       "      <td>0</td>\n",
       "      <td>58</td>\n",
       "      <td>145</td>\n",
       "      <td>14</td>\n",
       "      <td>32</td>\n",
       "      <td>1</td>\n",
       "      <td>34</td>\n",
       "      <td>0.03</td>\n",
       "      <td>0.000000</td>\n",
       "      <td>0.000000</td>\n",
       "      <td>...</td>\n",
       "      <td>0.000000</td>\n",
       "      <td>0.0</td>\n",
       "      <td>0.0</td>\n",
       "      <td>17.0</td>\n",
       "      <td>21.5</td>\n",
       "      <td>0.050847</td>\n",
       "      <td>29</td>\n",
       "      <td>41</td>\n",
       "      <td>23</td>\n",
       "      <td>30</td>\n",
       "    </tr>\n",
       "    <tr>\n",
       "      <th>151235</th>\n",
       "      <td>0</td>\n",
       "      <td>34</td>\n",
       "      <td>49</td>\n",
       "      <td>5</td>\n",
       "      <td>9</td>\n",
       "      <td>3</td>\n",
       "      <td>13</td>\n",
       "      <td>0.23</td>\n",
       "      <td>0.749981</td>\n",
       "      <td>0.599988</td>\n",
       "      <td>...</td>\n",
       "      <td>0.333330</td>\n",
       "      <td>1.0</td>\n",
       "      <td>0.0</td>\n",
       "      <td>4.0</td>\n",
       "      <td>7.0</td>\n",
       "      <td>0.542857</td>\n",
       "      <td>55</td>\n",
       "      <td>70</td>\n",
       "      <td>48</td>\n",
       "      <td>69</td>\n",
       "    </tr>\n",
       "  </tbody>\n",
       "</table>\n",
       "<p>5 rows × 23 columns</p>\n",
       "</div>"
      ],
      "text/plain": [
       "        is_duplicate  q1_len  q2_len  q1_words_num  q2_words_num  \\\n",
       "398782             1      75      76            13            13   \n",
       "115086             0      48      56            13            16   \n",
       "327711             0     104     119            28            21   \n",
       "367788             0      58     145            14            32   \n",
       "151235             0      34      49             5             9   \n",
       "\n",
       "        common_words  total_words  word_share   cwc_min   cwc_max  ...  \\\n",
       "398782            12           26        0.46  0.874989  0.874989  ...   \n",
       "115086             8           24        0.33  0.666644  0.499988  ...   \n",
       "327711             4           38        0.11  0.000000  0.000000  ...   \n",
       "367788             1           34        0.03  0.000000  0.000000  ...   \n",
       "151235             3           13        0.23  0.749981  0.599988  ...   \n",
       "\n",
       "         ctc_max  last_word_eq  first_word_eq  abs_len_diff  mean_len  \\\n",
       "398782  0.923070           1.0            1.0           0.0      13.0   \n",
       "115086  0.466664           1.0            1.0           3.0      13.5   \n",
       "327711  0.115384           0.0            0.0           6.0      23.0   \n",
       "367788  0.000000           0.0            0.0          17.0      21.5   \n",
       "151235  0.333330           1.0            0.0           4.0       7.0   \n",
       "\n",
       "        longest_substr_ratio  fuzz_ratio  fuzz_partial_ratio  \\\n",
       "398782              0.855263          99                  99   \n",
       "115086              0.224490          69                  67   \n",
       "327711              0.047619          26                  29   \n",
       "367788              0.050847          29                  41   \n",
       "151235              0.542857          55                  70   \n",
       "\n",
       "        token_sort_ratio  token_set_ratio  \n",
       "398782                99               99  \n",
       "115086                65               74  \n",
       "327711                34               43  \n",
       "367788                23               30  \n",
       "151235                48               69  \n",
       "\n",
       "[5 rows x 23 columns]"
      ]
     },
     "execution_count": 39,
     "metadata": {},
     "output_type": "execute_result"
    }
   ],
   "source": [
    "final_df = df.drop(columns=['id','qid1','qid2','question1','question2'])\n",
    "print(final_df.shape)\n",
    "final_df.head()"
   ]
  },
  {
   "cell_type": "code",
   "execution_count": 40,
   "id": "bf92a556-24b5-4a36-b135-f2e6c28e58e2",
   "metadata": {},
   "outputs": [
    {
     "data": {
      "text/html": [
       "<div>\n",
       "<style scoped>\n",
       "    .dataframe tbody tr th:only-of-type {\n",
       "        vertical-align: middle;\n",
       "    }\n",
       "\n",
       "    .dataframe tbody tr th {\n",
       "        vertical-align: top;\n",
       "    }\n",
       "\n",
       "    .dataframe thead th {\n",
       "        text-align: right;\n",
       "    }\n",
       "</style>\n",
       "<table border=\"1\" class=\"dataframe\">\n",
       "  <thead>\n",
       "    <tr style=\"text-align: right;\">\n",
       "      <th></th>\n",
       "      <th>question1</th>\n",
       "      <th>question2</th>\n",
       "    </tr>\n",
       "  </thead>\n",
       "  <tbody>\n",
       "    <tr>\n",
       "      <th>398782</th>\n",
       "      <td>what is the best marketing automation tool for...</td>\n",
       "      <td>what is the best marketing automation tool for...</td>\n",
       "    </tr>\n",
       "    <tr>\n",
       "      <th>115086</th>\n",
       "      <td>i am poor but i want to invest  what should i do</td>\n",
       "      <td>i am quite poor and i want to be very rich  wh...</td>\n",
       "    </tr>\n",
       "    <tr>\n",
       "      <th>327711</th>\n",
       "      <td>i am from india and live abroad  i met a guy f...</td>\n",
       "      <td>t i e t to thapar university to thapar univers...</td>\n",
       "    </tr>\n",
       "    <tr>\n",
       "      <th>367788</th>\n",
       "      <td>why do so many people in the u s  hate the sou...</td>\n",
       "      <td>my boyfriend doesnt feel guilty when he hurts ...</td>\n",
       "    </tr>\n",
       "    <tr>\n",
       "      <th>151235</th>\n",
       "      <td>consequences of bhopal gas tragedy</td>\n",
       "      <td>what was the reason behind the bhopal gas tragedy</td>\n",
       "    </tr>\n",
       "    <tr>\n",
       "      <th>...</th>\n",
       "      <td>...</td>\n",
       "      <td>...</td>\n",
       "    </tr>\n",
       "    <tr>\n",
       "      <th>243932</th>\n",
       "      <td>what are some good web scraping tutorials</td>\n",
       "      <td>what are some good web scraping programs</td>\n",
       "    </tr>\n",
       "    <tr>\n",
       "      <th>91980</th>\n",
       "      <td>can i apply for internet banking in sbi withou...</td>\n",
       "      <td>i have internet banking kit of sbi but it is n...</td>\n",
       "    </tr>\n",
       "    <tr>\n",
       "      <th>266955</th>\n",
       "      <td>how much he laundry detergent do you use in a ...</td>\n",
       "      <td>can i use regular dawn dishsoap in my dishwash...</td>\n",
       "    </tr>\n",
       "    <tr>\n",
       "      <th>71112</th>\n",
       "      <td>what is the best way to understand and learn m...</td>\n",
       "      <td>what are some of the best ways to learn math</td>\n",
       "    </tr>\n",
       "    <tr>\n",
       "      <th>312470</th>\n",
       "      <td>what would the modi led government do in case ...</td>\n",
       "      <td>if pakistan mounts a 26 11 type attack again  ...</td>\n",
       "    </tr>\n",
       "  </tbody>\n",
       "</table>\n",
       "<p>30000 rows × 2 columns</p>\n",
       "</div>"
      ],
      "text/plain": [
       "                                                question1  \\\n",
       "398782  what is the best marketing automation tool for...   \n",
       "115086   i am poor but i want to invest  what should i do   \n",
       "327711  i am from india and live abroad  i met a guy f...   \n",
       "367788  why do so many people in the u s  hate the sou...   \n",
       "151235                 consequences of bhopal gas tragedy   \n",
       "...                                                   ...   \n",
       "243932          what are some good web scraping tutorials   \n",
       "91980   can i apply for internet banking in sbi withou...   \n",
       "266955  how much he laundry detergent do you use in a ...   \n",
       "71112   what is the best way to understand and learn m...   \n",
       "312470  what would the modi led government do in case ...   \n",
       "\n",
       "                                                question2  \n",
       "398782  what is the best marketing automation tool for...  \n",
       "115086  i am quite poor and i want to be very rich  wh...  \n",
       "327711  t i e t to thapar university to thapar univers...  \n",
       "367788  my boyfriend doesnt feel guilty when he hurts ...  \n",
       "151235  what was the reason behind the bhopal gas tragedy  \n",
       "...                                                   ...  \n",
       "243932           what are some good web scraping programs  \n",
       "91980   i have internet banking kit of sbi but it is n...  \n",
       "266955  can i use regular dawn dishsoap in my dishwash...  \n",
       "71112        what are some of the best ways to learn math  \n",
       "312470  if pakistan mounts a 26 11 type attack again  ...  \n",
       "\n",
       "[30000 rows x 2 columns]"
      ]
     },
     "execution_count": 40,
     "metadata": {},
     "output_type": "execute_result"
    }
   ],
   "source": [
    "ques_df=df[['question1','question2']]\n",
    "ques_df"
   ]
  },
  {
   "cell_type": "code",
   "execution_count": 41,
   "id": "7b326868-7912-4f36-ae93-1c3133dd9cc8",
   "metadata": {},
   "outputs": [],
   "source": [
    "from sklearn.feature_extraction.text import CountVectorizer\n",
    "# merge texts\n",
    "questions = list(ques_df['question1']) + list(ques_df['question2'])\n",
    "\n",
    "cv = CountVectorizer(max_features=3000)\n",
    "q1_arr, q2_arr = np.vsplit(cv.fit_transform(questions).toarray(),2)"
   ]
  },
  {
   "cell_type": "code",
   "execution_count": 42,
   "id": "7d7d5c51-e05c-4ac2-8b6d-58635b03959d",
   "metadata": {},
   "outputs": [
    {
     "data": {
      "text/plain": [
       "(30000, 6000)"
      ]
     },
     "execution_count": 42,
     "metadata": {},
     "output_type": "execute_result"
    }
   ],
   "source": [
    "temp_df1 = pd.DataFrame(q1_arr, index= ques_df.index)\n",
    "temp_df2 = pd.DataFrame(q2_arr, index= ques_df.index)\n",
    "temp_df = pd.concat([temp_df1, temp_df2], axis=1)\n",
    "temp_df.shape"
   ]
  },
  {
   "cell_type": "code",
   "execution_count": 43,
   "id": "185d5675-0919-4b10-8e1b-b14d6448856d",
   "metadata": {},
   "outputs": [
    {
     "name": "stdout",
     "output_type": "stream",
     "text": [
      "(30000, 6023)\n"
     ]
    },
    {
     "data": {
      "text/html": [
       "<div>\n",
       "<style scoped>\n",
       "    .dataframe tbody tr th:only-of-type {\n",
       "        vertical-align: middle;\n",
       "    }\n",
       "\n",
       "    .dataframe tbody tr th {\n",
       "        vertical-align: top;\n",
       "    }\n",
       "\n",
       "    .dataframe thead th {\n",
       "        text-align: right;\n",
       "    }\n",
       "</style>\n",
       "<table border=\"1\" class=\"dataframe\">\n",
       "  <thead>\n",
       "    <tr style=\"text-align: right;\">\n",
       "      <th></th>\n",
       "      <th>is_duplicate</th>\n",
       "      <th>q1_len</th>\n",
       "      <th>q2_len</th>\n",
       "      <th>q1_words_num</th>\n",
       "      <th>q2_words_num</th>\n",
       "      <th>common_words</th>\n",
       "      <th>total_words</th>\n",
       "      <th>word_share</th>\n",
       "      <th>cwc_min</th>\n",
       "      <th>cwc_max</th>\n",
       "      <th>...</th>\n",
       "      <th>2990</th>\n",
       "      <th>2991</th>\n",
       "      <th>2992</th>\n",
       "      <th>2993</th>\n",
       "      <th>2994</th>\n",
       "      <th>2995</th>\n",
       "      <th>2996</th>\n",
       "      <th>2997</th>\n",
       "      <th>2998</th>\n",
       "      <th>2999</th>\n",
       "    </tr>\n",
       "  </thead>\n",
       "  <tbody>\n",
       "    <tr>\n",
       "      <th>398782</th>\n",
       "      <td>1</td>\n",
       "      <td>75</td>\n",
       "      <td>76</td>\n",
       "      <td>13</td>\n",
       "      <td>13</td>\n",
       "      <td>12</td>\n",
       "      <td>26</td>\n",
       "      <td>0.46</td>\n",
       "      <td>0.874989</td>\n",
       "      <td>0.874989</td>\n",
       "      <td>...</td>\n",
       "      <td>0</td>\n",
       "      <td>0</td>\n",
       "      <td>0</td>\n",
       "      <td>0</td>\n",
       "      <td>0</td>\n",
       "      <td>0</td>\n",
       "      <td>0</td>\n",
       "      <td>0</td>\n",
       "      <td>0</td>\n",
       "      <td>0</td>\n",
       "    </tr>\n",
       "    <tr>\n",
       "      <th>115086</th>\n",
       "      <td>0</td>\n",
       "      <td>48</td>\n",
       "      <td>56</td>\n",
       "      <td>13</td>\n",
       "      <td>16</td>\n",
       "      <td>8</td>\n",
       "      <td>24</td>\n",
       "      <td>0.33</td>\n",
       "      <td>0.666644</td>\n",
       "      <td>0.499988</td>\n",
       "      <td>...</td>\n",
       "      <td>0</td>\n",
       "      <td>0</td>\n",
       "      <td>0</td>\n",
       "      <td>0</td>\n",
       "      <td>0</td>\n",
       "      <td>0</td>\n",
       "      <td>0</td>\n",
       "      <td>0</td>\n",
       "      <td>0</td>\n",
       "      <td>0</td>\n",
       "    </tr>\n",
       "    <tr>\n",
       "      <th>327711</th>\n",
       "      <td>0</td>\n",
       "      <td>104</td>\n",
       "      <td>119</td>\n",
       "      <td>28</td>\n",
       "      <td>21</td>\n",
       "      <td>4</td>\n",
       "      <td>38</td>\n",
       "      <td>0.11</td>\n",
       "      <td>0.000000</td>\n",
       "      <td>0.000000</td>\n",
       "      <td>...</td>\n",
       "      <td>0</td>\n",
       "      <td>0</td>\n",
       "      <td>0</td>\n",
       "      <td>0</td>\n",
       "      <td>0</td>\n",
       "      <td>0</td>\n",
       "      <td>0</td>\n",
       "      <td>0</td>\n",
       "      <td>0</td>\n",
       "      <td>0</td>\n",
       "    </tr>\n",
       "    <tr>\n",
       "      <th>367788</th>\n",
       "      <td>0</td>\n",
       "      <td>58</td>\n",
       "      <td>145</td>\n",
       "      <td>14</td>\n",
       "      <td>32</td>\n",
       "      <td>1</td>\n",
       "      <td>34</td>\n",
       "      <td>0.03</td>\n",
       "      <td>0.000000</td>\n",
       "      <td>0.000000</td>\n",
       "      <td>...</td>\n",
       "      <td>0</td>\n",
       "      <td>0</td>\n",
       "      <td>0</td>\n",
       "      <td>1</td>\n",
       "      <td>0</td>\n",
       "      <td>0</td>\n",
       "      <td>0</td>\n",
       "      <td>0</td>\n",
       "      <td>0</td>\n",
       "      <td>0</td>\n",
       "    </tr>\n",
       "    <tr>\n",
       "      <th>151235</th>\n",
       "      <td>0</td>\n",
       "      <td>34</td>\n",
       "      <td>49</td>\n",
       "      <td>5</td>\n",
       "      <td>9</td>\n",
       "      <td>3</td>\n",
       "      <td>13</td>\n",
       "      <td>0.23</td>\n",
       "      <td>0.749981</td>\n",
       "      <td>0.599988</td>\n",
       "      <td>...</td>\n",
       "      <td>0</td>\n",
       "      <td>0</td>\n",
       "      <td>0</td>\n",
       "      <td>0</td>\n",
       "      <td>0</td>\n",
       "      <td>0</td>\n",
       "      <td>0</td>\n",
       "      <td>0</td>\n",
       "      <td>0</td>\n",
       "      <td>0</td>\n",
       "    </tr>\n",
       "  </tbody>\n",
       "</table>\n",
       "<p>5 rows × 6023 columns</p>\n",
       "</div>"
      ],
      "text/plain": [
       "        is_duplicate  q1_len  q2_len  q1_words_num  q2_words_num  \\\n",
       "398782             1      75      76            13            13   \n",
       "115086             0      48      56            13            16   \n",
       "327711             0     104     119            28            21   \n",
       "367788             0      58     145            14            32   \n",
       "151235             0      34      49             5             9   \n",
       "\n",
       "        common_words  total_words  word_share   cwc_min   cwc_max  ...  2990  \\\n",
       "398782            12           26        0.46  0.874989  0.874989  ...     0   \n",
       "115086             8           24        0.33  0.666644  0.499988  ...     0   \n",
       "327711             4           38        0.11  0.000000  0.000000  ...     0   \n",
       "367788             1           34        0.03  0.000000  0.000000  ...     0   \n",
       "151235             3           13        0.23  0.749981  0.599988  ...     0   \n",
       "\n",
       "        2991  2992  2993  2994  2995  2996  2997  2998  2999  \n",
       "398782     0     0     0     0     0     0     0     0     0  \n",
       "115086     0     0     0     0     0     0     0     0     0  \n",
       "327711     0     0     0     0     0     0     0     0     0  \n",
       "367788     0     0     1     0     0     0     0     0     0  \n",
       "151235     0     0     0     0     0     0     0     0     0  \n",
       "\n",
       "[5 rows x 6023 columns]"
      ]
     },
     "execution_count": 43,
     "metadata": {},
     "output_type": "execute_result"
    }
   ],
   "source": [
    "final_df = pd.concat([final_df, temp_df], axis=1)\n",
    "print(final_df.shape)\n",
    "final_df.head()"
   ]
  },
  {
   "cell_type": "code",
   "execution_count": 44,
   "id": "2f1d647a-39cb-433c-b32d-5439e4a643c4",
   "metadata": {},
   "outputs": [],
   "source": [
    "from sklearn.model_selection import train_test_split\n",
    "X_train,X_test,y_train,y_test = train_test_split(final_df.iloc[:,1:].values,final_df.iloc[:,0].values,test_size=0.2,random_state=1)"
   ]
  },
  {
   "cell_type": "code",
   "execution_count": 45,
   "id": "7f945881-1e39-4bf5-813c-d8df7cec8295",
   "metadata": {},
   "outputs": [
    {
     "data": {
      "text/plain": [
       "0.7845"
      ]
     },
     "execution_count": 45,
     "metadata": {},
     "output_type": "execute_result"
    }
   ],
   "source": [
    "from sklearn.ensemble import RandomForestClassifier\n",
    "from sklearn.metrics import accuracy_score\n",
    "rf = RandomForestClassifier()\n",
    "rf.fit(X_train,y_train)\n",
    "y_pred = rf.predict(X_test)\n",
    "accuracy_score(y_test,y_pred)"
   ]
  },
  {
   "cell_type": "code",
   "execution_count": 46,
   "id": "805e1eab-f837-4096-a17d-41f7b3f9a205",
   "metadata": {},
   "outputs": [
    {
     "data": {
      "text/plain": [
       "0.7955"
      ]
     },
     "execution_count": 46,
     "metadata": {},
     "output_type": "execute_result"
    }
   ],
   "source": [
    "from xgboost import XGBClassifier\n",
    "xgb = XGBClassifier()\n",
    "xgb.fit(X_train,y_train)\n",
    "y_pred1 = xgb.predict(X_test)\n",
    "accuracy_score(y_test,y_pred1)"
   ]
  },
  {
   "cell_type": "code",
   "execution_count": 47,
   "id": "86a1b5a6-efc7-4024-afdd-ea7a5d2b84ed",
   "metadata": {},
   "outputs": [],
   "source": [
    "from sklearn.linear_model import LogisticRegression\n",
    "from sklearn.svm import SVC\n",
    "from sklearn.naive_bayes import MultinomialNB\n",
    "from sklearn.tree import DecisionTreeClassifier\n",
    "from sklearn.neighbors import KNeighborsClassifier\n",
    "from sklearn.ensemble import RandomForestClassifier,AdaBoostClassifier,BaggingClassifier,ExtraTreesClassifier,GradientBoostingClassifier\n",
    "from xgboost import XGBClassifier"
   ]
  },
  {
   "cell_type": "code",
   "execution_count": 48,
   "id": "f60c603f-2747-4fee-8771-7da35f386043",
   "metadata": {},
   "outputs": [],
   "source": [
    "logsictic_reg=LogisticRegression(solver='liblinear',penalty='l1')\n",
    "# svc=SVC(kernel='sigmoid',gamma=1.0)\n",
    "mnb=MultinomialNB()\n",
    "dec_tree=DecisionTreeClassifier(max_depth=5)\n",
    "neighbours=KNeighborsClassifier()\n",
    "adabost=AdaBoostClassifier(n_estimators=50,random_state=2)\n",
    "bagging=BaggingClassifier(n_estimators=50,random_state=2)\n",
    "extra_tree=ExtraTreesClassifier(n_estimators=50,random_state=2)\n",
    "xgb=XGBClassifier(n_estimators=50,random_state=2)\n",
    "grad_boost=GradientBoostingClassifier(n_estimators=50,random_state=2)\n",
    "random_forest=RandomForestClassifier(n_estimators=50,random_state=2)"
   ]
  },
  {
   "cell_type": "code",
   "execution_count": 49,
   "id": "707a007b-4c3c-466c-b9d2-7de520af39db",
   "metadata": {},
   "outputs": [],
   "source": [
    "classifierss={\n",
    "    'Logistic reg':logsictic_reg,\n",
    "    # 'SVC':svc,\n",
    "    'multi naive':mnb,\n",
    "    'Decision tree':dec_tree,\n",
    "    'KNN':neighbours,\n",
    "    'ada boost':adabost,\n",
    "    'bagging':bagging,\n",
    "    'Extra Tree cls':extra_tree,\n",
    "    'XGB':xgb,\n",
    "    'Gradient Boost':grad_boost,\n",
    "    'Random Forest':random_forest\n",
    "}"
   ]
  },
  {
   "cell_type": "code",
   "execution_count": 50,
   "id": "fd390380-b6b9-4cde-8b6a-b1f822ac2c32",
   "metadata": {},
   "outputs": [],
   "source": [
    "from sklearn.metrics import accuracy_score,precision_score\n",
    "def train_classifier(model,X_train,y_train,X_test,y_test):\n",
    "    model.fit(X_train,y_train)\n",
    "    y_pred=model.predict(X_test)\n",
    "    accuracy=accuracy_score(y_test,y_pred)\n",
    "    precision=precision_score(y_test,y_pred)\n",
    "    return accuracy,precision"
   ]
  },
  {
   "cell_type": "code",
   "execution_count": 51,
   "id": "42428409-d0d8-4725-b94e-af62256eb352",
   "metadata": {},
   "outputs": [
    {
     "name": "stdout",
     "output_type": "stream",
     "text": [
      "Name:  Logistic reg\n",
      "Accuracy:  0.775\n",
      "Precision:  0.7032007759456838\n",
      "Name:  multi naive\n",
      "Accuracy:  0.6633333333333333\n",
      "Precision:  0.5259579728059333\n",
      "Name:  Decision tree\n",
      "Accuracy:  0.7306666666666667\n",
      "Precision:  0.6484942886812046\n",
      "Name:  KNN\n",
      "Accuracy:  0.7015\n",
      "Precision:  0.5959400676655389\n",
      "Name:  ada boost\n",
      "Accuracy:  0.7518333333333334\n",
      "Precision:  0.6714075527219225\n",
      "Name:  bagging\n",
      "Accuracy:  0.7785\n",
      "Precision:  0.7071876507477086\n",
      "Name:  Extra Tree cls\n",
      "Accuracy:  0.798\n",
      "Precision:  0.7595744680851064\n",
      "Name:  XGB\n",
      "Accuracy:  0.7881666666666667\n",
      "Precision:  0.715764705882353\n",
      "Name:  Gradient Boost\n",
      "Accuracy:  0.7491666666666666\n",
      "Precision:  0.6781429316640585\n",
      "Name:  Random Forest\n",
      "Accuracy:  0.786\n",
      "Precision:  0.7401700318809776\n"
     ]
    }
   ],
   "source": [
    "accuracy_score_list=[]\n",
    "precision_score_list=[]\n",
    "for name,clf in classifierss.items():\n",
    "    current_accuracy,current_precision=train_classifier(clf,X_train,y_train,X_test,y_test)\n",
    "    print(\"Name: \",name)\n",
    "    print(\"Accuracy: \",current_accuracy)\n",
    "    print(\"Precision: \",current_precision)\n",
    "    accuracy_score_list.append(current_accuracy)\n",
    "    precision_score_list.append(current_precision)"
   ]
  },
  {
   "cell_type": "code",
   "execution_count": 52,
   "id": "95ff168c-dffe-4ebc-a279-fb36d8509038",
   "metadata": {},
   "outputs": [],
   "source": [
    "performance_df=pd.DataFrame({\"Algorithims\":classifierss.keys(),\n",
    "                            \"Accuracy\":accuracy_score_list,\n",
    "                            \"Precision\":precision_score_list}).sort_values(\"Precision\",ascending=False)"
   ]
  },
  {
   "cell_type": "code",
   "execution_count": 53,
   "id": "2d275250-a2d7-419b-86f6-87b562cba90b",
   "metadata": {},
   "outputs": [
    {
     "data": {
      "text/html": [
       "<div>\n",
       "<style scoped>\n",
       "    .dataframe tbody tr th:only-of-type {\n",
       "        vertical-align: middle;\n",
       "    }\n",
       "\n",
       "    .dataframe tbody tr th {\n",
       "        vertical-align: top;\n",
       "    }\n",
       "\n",
       "    .dataframe thead th {\n",
       "        text-align: right;\n",
       "    }\n",
       "</style>\n",
       "<table border=\"1\" class=\"dataframe\">\n",
       "  <thead>\n",
       "    <tr style=\"text-align: right;\">\n",
       "      <th></th>\n",
       "      <th>Algorithims</th>\n",
       "      <th>Accuracy</th>\n",
       "      <th>Precision</th>\n",
       "    </tr>\n",
       "  </thead>\n",
       "  <tbody>\n",
       "    <tr>\n",
       "      <th>6</th>\n",
       "      <td>Extra Tree cls</td>\n",
       "      <td>0.798000</td>\n",
       "      <td>0.759574</td>\n",
       "    </tr>\n",
       "    <tr>\n",
       "      <th>9</th>\n",
       "      <td>Random Forest</td>\n",
       "      <td>0.786000</td>\n",
       "      <td>0.740170</td>\n",
       "    </tr>\n",
       "    <tr>\n",
       "      <th>7</th>\n",
       "      <td>XGB</td>\n",
       "      <td>0.788167</td>\n",
       "      <td>0.715765</td>\n",
       "    </tr>\n",
       "    <tr>\n",
       "      <th>5</th>\n",
       "      <td>bagging</td>\n",
       "      <td>0.778500</td>\n",
       "      <td>0.707188</td>\n",
       "    </tr>\n",
       "    <tr>\n",
       "      <th>0</th>\n",
       "      <td>Logistic reg</td>\n",
       "      <td>0.775000</td>\n",
       "      <td>0.703201</td>\n",
       "    </tr>\n",
       "    <tr>\n",
       "      <th>8</th>\n",
       "      <td>Gradient Boost</td>\n",
       "      <td>0.749167</td>\n",
       "      <td>0.678143</td>\n",
       "    </tr>\n",
       "    <tr>\n",
       "      <th>4</th>\n",
       "      <td>ada boost</td>\n",
       "      <td>0.751833</td>\n",
       "      <td>0.671408</td>\n",
       "    </tr>\n",
       "    <tr>\n",
       "      <th>2</th>\n",
       "      <td>Decision tree</td>\n",
       "      <td>0.730667</td>\n",
       "      <td>0.648494</td>\n",
       "    </tr>\n",
       "    <tr>\n",
       "      <th>3</th>\n",
       "      <td>KNN</td>\n",
       "      <td>0.701500</td>\n",
       "      <td>0.595940</td>\n",
       "    </tr>\n",
       "    <tr>\n",
       "      <th>1</th>\n",
       "      <td>multi naive</td>\n",
       "      <td>0.663333</td>\n",
       "      <td>0.525958</td>\n",
       "    </tr>\n",
       "  </tbody>\n",
       "</table>\n",
       "</div>"
      ],
      "text/plain": [
       "      Algorithims  Accuracy  Precision\n",
       "6  Extra Tree cls  0.798000   0.759574\n",
       "9   Random Forest  0.786000   0.740170\n",
       "7             XGB  0.788167   0.715765\n",
       "5         bagging  0.778500   0.707188\n",
       "0    Logistic reg  0.775000   0.703201\n",
       "8  Gradient Boost  0.749167   0.678143\n",
       "4       ada boost  0.751833   0.671408\n",
       "2   Decision tree  0.730667   0.648494\n",
       "3             KNN  0.701500   0.595940\n",
       "1     multi naive  0.663333   0.525958"
      ]
     },
     "execution_count": 53,
     "metadata": {},
     "output_type": "execute_result"
    }
   ],
   "source": [
    "performance_df"
   ]
  },
  {
   "cell_type": "code",
   "execution_count": 89,
   "id": "a1ea28bc-3803-41ad-93c1-80dfc102ec18",
   "metadata": {},
   "outputs": [],
   "source": [
    "def common_words(q1,q2):\n",
    "    w1 = set(map(lambda word: word.lower().strip(), q1.split(\" \")))\n",
    "    w2 = set(map(lambda word: word.lower().strip(), q2.split(\" \")))    \n",
    "    return len(w1 & w2)"
   ]
  },
  {
   "cell_type": "code",
   "execution_count": 90,
   "id": "38a405d1-0a05-4494-8f12-9f2ea3e20faf",
   "metadata": {},
   "outputs": [],
   "source": [
    "def total_words(q1,q2):\n",
    "    w1 = set(map(lambda word: word.lower().strip(), q1.split(\" \")))\n",
    "    w2 = set(map(lambda word: word.lower().strip(), q2.split(\" \")))    \n",
    "    return (len(w1) + len(w2))"
   ]
  },
  {
   "cell_type": "code",
   "execution_count": 91,
   "id": "3779d717-1f73-458e-8584-92f0d4369553",
   "metadata": {},
   "outputs": [],
   "source": [
    "def token_features(q1,q2):\n",
    "    \n",
    "    SAFE_DIV = 0.0001 \n",
    "\n",
    "    STOP_WORDS = stopwords.words(\"english\")\n",
    "    \n",
    "    token_features = [0.0]*8\n",
    "    \n",
    "    # Converting the Sentence into Tokens: \n",
    "    q1_tokens = q1.split()\n",
    "    q2_tokens = q2.split()\n",
    "    \n",
    "    if len(q1_tokens) == 0 or len(q2_tokens) == 0:\n",
    "        return token_features\n",
    "\n",
    "    # Get the non-stopwords in Questions\n",
    "    q1_words = set([word for word in q1_tokens if word not in STOP_WORDS])\n",
    "    q2_words = set([word for word in q2_tokens if word not in STOP_WORDS])\n",
    "    \n",
    "    #Get the stopwords in Questions\n",
    "    q1_stops = set([word for word in q1_tokens if word in STOP_WORDS])\n",
    "    q2_stops = set([word for word in q2_tokens if word in STOP_WORDS])\n",
    "    \n",
    "    # Get the common non-stopwords from Question pair\n",
    "    common_word_count = len(q1_words.intersection(q2_words))\n",
    "    \n",
    "    # Get the common stopwords from Question pair\n",
    "    common_stop_count = len(q1_stops.intersection(q2_stops))\n",
    "    \n",
    "    # Get the common Tokens from Question pair\n",
    "    common_token_count = len(set(q1_tokens).intersection(set(q2_tokens)))\n",
    "    \n",
    "    \n",
    "    token_features[0] = common_word_count / (min(len(q1_words), len(q2_words)) + SAFE_DIV)\n",
    "    token_features[1] = common_word_count / (max(len(q1_words), len(q2_words)) + SAFE_DIV)\n",
    "    token_features[2] = common_stop_count / (min(len(q1_stops), len(q2_stops)) + SAFE_DIV)\n",
    "    token_features[3] = common_stop_count / (max(len(q1_stops), len(q2_stops)) + SAFE_DIV)\n",
    "    token_features[4] = common_token_count / (min(len(q1_tokens), len(q2_tokens)) + SAFE_DIV)\n",
    "    token_features[5] = common_token_count / (max(len(q1_tokens), len(q2_tokens)) + SAFE_DIV)\n",
    "    \n",
    "    # Last word of both question is same or not\n",
    "    token_features[6] = int(q1_tokens[-1] == q2_tokens[-1])\n",
    "    \n",
    "    # First word of both question is same or not\n",
    "    token_features[7] = int(q1_tokens[0] == q2_tokens[0])\n",
    "    \n",
    "    return token_features\n"
   ]
  },
  {
   "cell_type": "code",
   "execution_count": 92,
   "id": "3df6a008-a444-4160-884e-c86d0d276f21",
   "metadata": {},
   "outputs": [],
   "source": [
    "def test_fetch_length_features(q1,q2):\n",
    "    \n",
    "    length_features = [0.0]*3\n",
    "    \n",
    "    # Converting the Sentence into Tokens: \n",
    "    q1_tokens = q1.split()\n",
    "    q2_tokens = q2.split()\n",
    "    \n",
    "    if len(q1_tokens) == 0 or len(q2_tokens) == 0:\n",
    "        return length_features\n",
    "    \n",
    "    # Absolute length features\n",
    "    length_features[0] = abs(len(q1_tokens) - len(q2_tokens))\n",
    "    \n",
    "    #Average Token Length of both Questions\n",
    "    length_features[1] = (len(q1_tokens) + len(q2_tokens))/2\n",
    "    \n",
    "    strs = list(distance.lcsubstrings(q1, q2))\n",
    "    length_features[2] = len(strs[0]) / (min(len(q1), len(q2)) + 1)\n",
    "    \n",
    "    return length_features"
   ]
  },
  {
   "cell_type": "code",
   "execution_count": 93,
   "id": "1091592d-ceb0-4594-aca6-b65cc8d42935",
   "metadata": {},
   "outputs": [],
   "source": [
    "def test_fetch_fuzzy_features(q1,q2):\n",
    "    \n",
    "    fuzzy_features = [0.0]*4\n",
    "    \n",
    "    # fuzz_ratio\n",
    "    fuzzy_features[0] = fuzz.QRatio(q1, q2)\n",
    "\n",
    "    # fuzz_partial_ratio\n",
    "    fuzzy_features[1] = fuzz.partial_ratio(q1, q2)\n",
    "\n",
    "    # token_sort_ratio\n",
    "    fuzzy_features[2] = fuzz.token_sort_ratio(q1, q2)\n",
    "\n",
    "    # token_set_ratio\n",
    "    fuzzy_features[3] = fuzz.token_set_ratio(q1, q2)\n",
    "\n",
    "    return fuzzy_features"
   ]
  },
  {
   "cell_type": "code",
   "execution_count": 101,
   "id": "8139d6b1-0002-402a-84a3-659248dfcd46",
   "metadata": {},
   "outputs": [],
   "source": [
    "def proprocess_predict(q1,q2):\n",
    "    features=[]\n",
    "    q1=preprocess(q1)\n",
    "    q2=preprocess(q2)\n",
    "    #length of question\n",
    "    features.append(len(q1))\n",
    "    features.append(len(q2))\n",
    "    #lenght of words\n",
    "    features.append(len(q1.split(\" \")))\n",
    "    features.append(len(q2.split(\" \")))\n",
    "    #find common words\n",
    "    features.append(common_words(q1,q2))\n",
    "    features.append(total_words(q1,q2))\n",
    "    features.append(round(common_words(q1,q2)/total_words(q1,q2),2))\n",
    "    #token feaatures\n",
    "    token_feature=token_features(q1,q2)\n",
    "    features.extend(token_feature)\n",
    "    #fetch length based featurestT\n",
    "    length_features=test_fetch_length_features(q1,q2)\n",
    "    features.extend(length_features)\n",
    "    #fetch-fuzy features\n",
    "    fuzzy_features=test_fetch_fuzzy_features(q1,q2)\n",
    "    features.extend(fuzzy_features)\n",
    "    #bag of words\n",
    "    q1_bow=cv.transform([q1]).toarray()\n",
    "    q2_bow=cv.transform([q2]).toarray()\n",
    "\n",
    "    return np.hstack((np.array(features).reshape(1,22),q1_bow,q2_bow))"
   ]
  },
  {
   "cell_type": "code",
   "execution_count": 105,
   "id": "27b7c7c8-616c-4609-8bf6-cab293991972",
   "metadata": {},
   "outputs": [],
   "source": [
    "q1=\"What is the current capital of Pakistan?\"\n",
    "q2=\"Where is the capital of India?\""
   ]
  },
  {
   "cell_type": "code",
   "execution_count": 106,
   "id": "ec3319ac-db96-45a0-96b6-616d8572543b",
   "metadata": {},
   "outputs": [
    {
     "data": {
      "text/plain": [
       "(1, 6022)"
      ]
     },
     "execution_count": 106,
     "metadata": {},
     "output_type": "execute_result"
    }
   ],
   "source": [
    "proprocess_predict(q1,q2).shape"
   ]
  },
  {
   "cell_type": "code",
   "execution_count": 107,
   "id": "2d5d6055-27e6-420a-92b3-a9a94f3420d4",
   "metadata": {},
   "outputs": [
    {
     "data": {
      "text/plain": [
       "array([0])"
      ]
     },
     "execution_count": 107,
     "metadata": {},
     "output_type": "execute_result"
    }
   ],
   "source": [
    "extra_tree.predict(proprocess_predict(q1,q2))"
   ]
  },
  {
   "cell_type": "code",
   "execution_count": 108,
   "id": "fdba10c2-3554-48a0-ba7b-5fbd4eeb90e8",
   "metadata": {},
   "outputs": [],
   "source": [
    "import pickle\n",
    "pickle.dump(extra_tree,open(\"extra_tree.pkl\",\"wb\"))\n",
    "pickle.dump(cv,open(\"vectors.pkl\",\"wb\"))"
   ]
  },
  {
   "cell_type": "code",
   "execution_count": null,
   "id": "3c533c5f-fd34-4e25-9e79-8644e94b188e",
   "metadata": {},
   "outputs": [],
   "source": []
  }
 ],
 "metadata": {
  "kernelspec": {
   "display_name": "Python 3 (ipykernel)",
   "language": "python",
   "name": "python3"
  },
  "language_info": {
   "codemirror_mode": {
    "name": "ipython",
    "version": 3
   },
   "file_extension": ".py",
   "mimetype": "text/x-python",
   "name": "python",
   "nbconvert_exporter": "python",
   "pygments_lexer": "ipython3",
   "version": "3.10.12"
  }
 },
 "nbformat": 4,
 "nbformat_minor": 5
}
